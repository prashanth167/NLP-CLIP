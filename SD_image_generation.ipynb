{
 "cells": [
  {
   "cell_type": "code",
   "execution_count": null,
   "metadata": {},
   "outputs": [
    {
     "name": "stderr",
     "output_type": "stream",
     "text": [
      "/home/ptummal3/.conda/envs/clip/lib/python3.9/site-packages/tqdm/auto.py:21: TqdmWarning: IProgress not found. Please update jupyter and ipywidgets. See https://ipywidgets.readthedocs.io/en/stable/user_install.html\n",
      "  from .autonotebook import tqdm as notebook_tqdm\n",
      "Loading checkpoint shards: 100%|██████████| 2/2 [00:07<00:00,  3.78s/it]it/s]\n",
      "Loading pipeline components...:  56%|█████▌    | 5/9 [00:10<00:10,  2.55s/it]You set `add_prefix_space`. The tokenizer needs to be converted from the slow tokenizers\n",
      "Loading pipeline components...: 100%|██████████| 9/9 [00:28<00:00,  3.15s/it]\n"
     ]
    },
    {
     "name": "stdout",
     "output_type": "stream",
     "text": [
      "Generating image 1/10 with prompt: A stylish dress with a simple, vibrant pattern, featuring colorful geometric shapes, floral designs, or abstract motifs, set against a plain white background. The dress has a sleeveless, flared design with bright pastel shades like pink, blue, and yellow.\n"
     ]
    },
    {
     "name": "stderr",
     "output_type": "stream",
     "text": [
      "100%|██████████| 50/50 [02:48<00:00,  3.38s/it]\n"
     ]
    },
    {
     "name": "stdout",
     "output_type": "stream",
     "text": [
      "Generating image 2/10 with prompt: A high-quality image of a sleeveless dress with a flared skirt and colorful abstract patterns. The pattern combines artistic swirls, lines, and dots in shades of blue, green, and red. Displayed in a clean studio setup with a neutral backdrop.\n"
     ]
    },
    {
     "name": "stderr",
     "output_type": "stream",
     "text": [
      "100%|██████████| 50/50 [02:48<00:00,  3.37s/it]\n"
     ]
    },
    {
     "name": "stdout",
     "output_type": "stream",
     "text": [
      "Generating image 3/10 with prompt: A fashionable dress adorned with vibrant geometric patterns in bold colors such as orange, teal, and yellow. The design includes triangles, circles, and lines, with a modern sleeveless silhouette, showcased on a seamless beige background.\n"
     ]
    },
    {
     "name": "stderr",
     "output_type": "stream",
     "text": [
      "100%|██████████| 50/50 [02:48<00:00,  3.37s/it]\n"
     ]
    },
    {
     "name": "stdout",
     "output_type": "stream",
     "text": [
      "Generating image 4/10 with prompt: A sleeveless summer dress featuring a colorful floral pattern with roses, daisies, and leaves in shades of pink, purple, and green. The dress is knee-length with a flared skirt, set against a gradient pastel background.\n"
     ]
    },
    {
     "name": "stderr",
     "output_type": "stream",
     "text": [
      "100%|██████████| 50/50 [02:58<00:00,  3.57s/it]\n"
     ]
    },
    {
     "name": "stdout",
     "output_type": "stream",
     "text": [
      "Generating image 5/10 with prompt: A single elegant dress with an abstract artistic pattern featuring colorful strokes, splashes, and curves in bright tones of red, blue, yellow, and white. Displayed on a mannequin in a minimal studio environment.\n"
     ]
    },
    {
     "name": "stderr",
     "output_type": "stream",
     "text": [
      "100%|██████████| 50/50 [02:48<00:00,  3.37s/it]\n"
     ]
    },
    {
     "name": "stdout",
     "output_type": "stream",
     "text": [
      "Generating image 6/10 with prompt: A stylish dress with a simple, vibrant pattern, featuring colorful geometric shapes, floral designs, or abstract motifs, set against a plain white background. The dress has a sleeveless, flared design with bright pastel shades like pink, blue, and yellow.\n"
     ]
    },
    {
     "name": "stderr",
     "output_type": "stream",
     "text": [
      "100%|██████████| 50/50 [02:48<00:00,  3.38s/it]\n"
     ]
    },
    {
     "name": "stdout",
     "output_type": "stream",
     "text": [
      "Generating image 7/10 with prompt: A high-quality image of a sleeveless dress with a flared skirt and colorful abstract patterns. The pattern combines artistic swirls, lines, and dots in shades of blue, green, and red. Displayed in a clean studio setup with a neutral backdrop.\n"
     ]
    },
    {
     "name": "stderr",
     "output_type": "stream",
     "text": [
      "  4%|▍         | 2/50 [00:07<03:07,  3.91s/it]\n"
     ]
    },
    {
     "ename": "KeyboardInterrupt",
     "evalue": "",
     "output_type": "error",
     "traceback": [
      "\u001b[0;31m---------------------------------------------------------------------------\u001b[0m",
      "\u001b[0;31mKeyboardInterrupt\u001b[0m                         Traceback (most recent call last)",
      "Cell \u001b[0;32mIn[1], line 26\u001b[0m\n\u001b[1;32m     24\u001b[0m     prompt \u001b[39m=\u001b[39m prompts[i \u001b[39m%\u001b[39m \u001b[39mlen\u001b[39m(prompts)]  \u001b[39m# Cycle through the prompts\u001b[39;00m\n\u001b[1;32m     25\u001b[0m     \u001b[39mprint\u001b[39m(\u001b[39mf\u001b[39m\u001b[39m\"\u001b[39m\u001b[39mGenerating image \u001b[39m\u001b[39m{\u001b[39;00mi\u001b[39m+\u001b[39m\u001b[39m1\u001b[39m\u001b[39m}\u001b[39;00m\u001b[39m/10 with prompt: \u001b[39m\u001b[39m{\u001b[39;00mprompt\u001b[39m}\u001b[39;00m\u001b[39m\"\u001b[39m)\n\u001b[0;32m---> 26\u001b[0m     image \u001b[39m=\u001b[39m pipe(prompt, negative_prompt\u001b[39m=\u001b[39;49mnegative_prompt, num_inference_steps\u001b[39m=\u001b[39;49m\u001b[39m50\u001b[39;49m, guidance_scale\u001b[39m=\u001b[39;49m\u001b[39m7.5\u001b[39;49m)\u001b[39m.\u001b[39mimages[\u001b[39m0\u001b[39m]\n\u001b[1;32m     27\u001b[0m     image\u001b[39m.\u001b[39msave(\u001b[39mf\u001b[39m\u001b[39m\"\u001b[39m\u001b[39m{\u001b[39;00moutput_dir\u001b[39m}\u001b[39;00m\u001b[39mdress_\u001b[39m\u001b[39m{\u001b[39;00mi\u001b[39m+\u001b[39m\u001b[39m1\u001b[39m\u001b[39m:\u001b[39;00m\u001b[39m03d\u001b[39m\u001b[39m}\u001b[39;00m\u001b[39m.png\u001b[39m\u001b[39m\"\u001b[39m)\n\u001b[1;32m     30\u001b[0m \u001b[39mprint\u001b[39m(\u001b[39m\"\u001b[39m\u001b[39mImage generation completed!\u001b[39m\u001b[39m\"\u001b[39m)\n",
      "File \u001b[0;32m~/.conda/envs/clip/lib/python3.9/site-packages/torch/utils/_contextlib.py:116\u001b[0m, in \u001b[0;36mcontext_decorator.<locals>.decorate_context\u001b[0;34m(*args, **kwargs)\u001b[0m\n\u001b[1;32m    113\u001b[0m \u001b[39m@functools\u001b[39m\u001b[39m.\u001b[39mwraps(func)\n\u001b[1;32m    114\u001b[0m \u001b[39mdef\u001b[39;00m \u001b[39mdecorate_context\u001b[39m(\u001b[39m*\u001b[39margs, \u001b[39m*\u001b[39m\u001b[39m*\u001b[39mkwargs):\n\u001b[1;32m    115\u001b[0m     \u001b[39mwith\u001b[39;00m ctx_factory():\n\u001b[0;32m--> 116\u001b[0m         \u001b[39mreturn\u001b[39;00m func(\u001b[39m*\u001b[39;49margs, \u001b[39m*\u001b[39;49m\u001b[39m*\u001b[39;49mkwargs)\n",
      "File \u001b[0;32m~/.conda/envs/clip/lib/python3.9/site-packages/diffusers/pipelines/stable_diffusion_3/pipeline_stable_diffusion_3.py:886\u001b[0m, in \u001b[0;36mStableDiffusion3Pipeline.__call__\u001b[0;34m(self, prompt, prompt_2, prompt_3, height, width, num_inference_steps, timesteps, guidance_scale, negative_prompt, negative_prompt_2, negative_prompt_3, num_images_per_prompt, generator, latents, prompt_embeds, negative_prompt_embeds, pooled_prompt_embeds, negative_pooled_prompt_embeds, output_type, return_dict, joint_attention_kwargs, clip_skip, callback_on_step_end, callback_on_step_end_tensor_inputs, max_sequence_length)\u001b[0m\n\u001b[1;32m    883\u001b[0m \u001b[39m# broadcast to batch dimension in a way that's compatible with ONNX/Core ML\u001b[39;00m\n\u001b[1;32m    884\u001b[0m timestep \u001b[39m=\u001b[39m t\u001b[39m.\u001b[39mexpand(latent_model_input\u001b[39m.\u001b[39mshape[\u001b[39m0\u001b[39m])\n\u001b[0;32m--> 886\u001b[0m noise_pred \u001b[39m=\u001b[39m \u001b[39mself\u001b[39;49m\u001b[39m.\u001b[39;49mtransformer(\n\u001b[1;32m    887\u001b[0m     hidden_states\u001b[39m=\u001b[39;49mlatent_model_input,\n\u001b[1;32m    888\u001b[0m     timestep\u001b[39m=\u001b[39;49mtimestep,\n\u001b[1;32m    889\u001b[0m     encoder_hidden_states\u001b[39m=\u001b[39;49mprompt_embeds,\n\u001b[1;32m    890\u001b[0m     pooled_projections\u001b[39m=\u001b[39;49mpooled_prompt_embeds,\n\u001b[1;32m    891\u001b[0m     joint_attention_kwargs\u001b[39m=\u001b[39;49m\u001b[39mself\u001b[39;49m\u001b[39m.\u001b[39;49mjoint_attention_kwargs,\n\u001b[1;32m    892\u001b[0m     return_dict\u001b[39m=\u001b[39;49m\u001b[39mFalse\u001b[39;49;00m,\n\u001b[1;32m    893\u001b[0m )[\u001b[39m0\u001b[39m]\n\u001b[1;32m    895\u001b[0m \u001b[39m# perform guidance\u001b[39;00m\n\u001b[1;32m    896\u001b[0m \u001b[39mif\u001b[39;00m \u001b[39mself\u001b[39m\u001b[39m.\u001b[39mdo_classifier_free_guidance:\n",
      "File \u001b[0;32m~/.conda/envs/clip/lib/python3.9/site-packages/torch/nn/modules/module.py:1736\u001b[0m, in \u001b[0;36mModule._wrapped_call_impl\u001b[0;34m(self, *args, **kwargs)\u001b[0m\n\u001b[1;32m   1734\u001b[0m     \u001b[39mreturn\u001b[39;00m \u001b[39mself\u001b[39m\u001b[39m.\u001b[39m_compiled_call_impl(\u001b[39m*\u001b[39margs, \u001b[39m*\u001b[39m\u001b[39m*\u001b[39mkwargs)  \u001b[39m# type: ignore[misc]\u001b[39;00m\n\u001b[1;32m   1735\u001b[0m \u001b[39melse\u001b[39;00m:\n\u001b[0;32m-> 1736\u001b[0m     \u001b[39mreturn\u001b[39;00m \u001b[39mself\u001b[39;49m\u001b[39m.\u001b[39;49m_call_impl(\u001b[39m*\u001b[39;49margs, \u001b[39m*\u001b[39;49m\u001b[39m*\u001b[39;49mkwargs)\n",
      "File \u001b[0;32m~/.conda/envs/clip/lib/python3.9/site-packages/torch/nn/modules/module.py:1747\u001b[0m, in \u001b[0;36mModule._call_impl\u001b[0;34m(self, *args, **kwargs)\u001b[0m\n\u001b[1;32m   1742\u001b[0m \u001b[39m# If we don't have any hooks, we want to skip the rest of the logic in\u001b[39;00m\n\u001b[1;32m   1743\u001b[0m \u001b[39m# this function, and just call forward.\u001b[39;00m\n\u001b[1;32m   1744\u001b[0m \u001b[39mif\u001b[39;00m \u001b[39mnot\u001b[39;00m (\u001b[39mself\u001b[39m\u001b[39m.\u001b[39m_backward_hooks \u001b[39mor\u001b[39;00m \u001b[39mself\u001b[39m\u001b[39m.\u001b[39m_backward_pre_hooks \u001b[39mor\u001b[39;00m \u001b[39mself\u001b[39m\u001b[39m.\u001b[39m_forward_hooks \u001b[39mor\u001b[39;00m \u001b[39mself\u001b[39m\u001b[39m.\u001b[39m_forward_pre_hooks\n\u001b[1;32m   1745\u001b[0m         \u001b[39mor\u001b[39;00m _global_backward_pre_hooks \u001b[39mor\u001b[39;00m _global_backward_hooks\n\u001b[1;32m   1746\u001b[0m         \u001b[39mor\u001b[39;00m _global_forward_hooks \u001b[39mor\u001b[39;00m _global_forward_pre_hooks):\n\u001b[0;32m-> 1747\u001b[0m     \u001b[39mreturn\u001b[39;00m forward_call(\u001b[39m*\u001b[39;49margs, \u001b[39m*\u001b[39;49m\u001b[39m*\u001b[39;49mkwargs)\n\u001b[1;32m   1749\u001b[0m result \u001b[39m=\u001b[39m \u001b[39mNone\u001b[39;00m\n\u001b[1;32m   1750\u001b[0m called_always_called_hooks \u001b[39m=\u001b[39m \u001b[39mset\u001b[39m()\n",
      "File \u001b[0;32m~/.conda/envs/clip/lib/python3.9/site-packages/diffusers/models/transformers/transformer_sd3.py:341\u001b[0m, in \u001b[0;36mSD3Transformer2DModel.forward\u001b[0;34m(self, hidden_states, encoder_hidden_states, pooled_projections, timestep, block_controlnet_hidden_states, joint_attention_kwargs, return_dict)\u001b[0m\n\u001b[1;32m    332\u001b[0m     encoder_hidden_states, hidden_states \u001b[39m=\u001b[39m torch\u001b[39m.\u001b[39mutils\u001b[39m.\u001b[39mcheckpoint\u001b[39m.\u001b[39mcheckpoint(\n\u001b[1;32m    333\u001b[0m         create_custom_forward(block),\n\u001b[1;32m    334\u001b[0m         hidden_states,\n\u001b[0;32m   (...)\u001b[0m\n\u001b[1;32m    337\u001b[0m         \u001b[39m*\u001b[39m\u001b[39m*\u001b[39mckpt_kwargs,\n\u001b[1;32m    338\u001b[0m     )\n\u001b[1;32m    340\u001b[0m \u001b[39melse\u001b[39;00m:\n\u001b[0;32m--> 341\u001b[0m     encoder_hidden_states, hidden_states \u001b[39m=\u001b[39m block(\n\u001b[1;32m    342\u001b[0m         hidden_states\u001b[39m=\u001b[39;49mhidden_states, encoder_hidden_states\u001b[39m=\u001b[39;49mencoder_hidden_states, temb\u001b[39m=\u001b[39;49mtemb\n\u001b[1;32m    343\u001b[0m     )\n\u001b[1;32m    345\u001b[0m \u001b[39m# controlnet residual\u001b[39;00m\n\u001b[1;32m    346\u001b[0m \u001b[39mif\u001b[39;00m block_controlnet_hidden_states \u001b[39mis\u001b[39;00m \u001b[39mnot\u001b[39;00m \u001b[39mNone\u001b[39;00m \u001b[39mand\u001b[39;00m block\u001b[39m.\u001b[39mcontext_pre_only \u001b[39mis\u001b[39;00m \u001b[39mFalse\u001b[39;00m:\n",
      "File \u001b[0;32m~/.conda/envs/clip/lib/python3.9/site-packages/torch/nn/modules/module.py:1736\u001b[0m, in \u001b[0;36mModule._wrapped_call_impl\u001b[0;34m(self, *args, **kwargs)\u001b[0m\n\u001b[1;32m   1734\u001b[0m     \u001b[39mreturn\u001b[39;00m \u001b[39mself\u001b[39m\u001b[39m.\u001b[39m_compiled_call_impl(\u001b[39m*\u001b[39margs, \u001b[39m*\u001b[39m\u001b[39m*\u001b[39mkwargs)  \u001b[39m# type: ignore[misc]\u001b[39;00m\n\u001b[1;32m   1735\u001b[0m \u001b[39melse\u001b[39;00m:\n\u001b[0;32m-> 1736\u001b[0m     \u001b[39mreturn\u001b[39;00m \u001b[39mself\u001b[39;49m\u001b[39m.\u001b[39;49m_call_impl(\u001b[39m*\u001b[39;49margs, \u001b[39m*\u001b[39;49m\u001b[39m*\u001b[39;49mkwargs)\n",
      "File \u001b[0;32m~/.conda/envs/clip/lib/python3.9/site-packages/torch/nn/modules/module.py:1747\u001b[0m, in \u001b[0;36mModule._call_impl\u001b[0;34m(self, *args, **kwargs)\u001b[0m\n\u001b[1;32m   1742\u001b[0m \u001b[39m# If we don't have any hooks, we want to skip the rest of the logic in\u001b[39;00m\n\u001b[1;32m   1743\u001b[0m \u001b[39m# this function, and just call forward.\u001b[39;00m\n\u001b[1;32m   1744\u001b[0m \u001b[39mif\u001b[39;00m \u001b[39mnot\u001b[39;00m (\u001b[39mself\u001b[39m\u001b[39m.\u001b[39m_backward_hooks \u001b[39mor\u001b[39;00m \u001b[39mself\u001b[39m\u001b[39m.\u001b[39m_backward_pre_hooks \u001b[39mor\u001b[39;00m \u001b[39mself\u001b[39m\u001b[39m.\u001b[39m_forward_hooks \u001b[39mor\u001b[39;00m \u001b[39mself\u001b[39m\u001b[39m.\u001b[39m_forward_pre_hooks\n\u001b[1;32m   1745\u001b[0m         \u001b[39mor\u001b[39;00m _global_backward_pre_hooks \u001b[39mor\u001b[39;00m _global_backward_hooks\n\u001b[1;32m   1746\u001b[0m         \u001b[39mor\u001b[39;00m _global_forward_hooks \u001b[39mor\u001b[39;00m _global_forward_pre_hooks):\n\u001b[0;32m-> 1747\u001b[0m     \u001b[39mreturn\u001b[39;00m forward_call(\u001b[39m*\u001b[39;49margs, \u001b[39m*\u001b[39;49m\u001b[39m*\u001b[39;49mkwargs)\n\u001b[1;32m   1749\u001b[0m result \u001b[39m=\u001b[39m \u001b[39mNone\u001b[39;00m\n\u001b[1;32m   1750\u001b[0m called_always_called_hooks \u001b[39m=\u001b[39m \u001b[39mset\u001b[39m()\n",
      "File \u001b[0;32m~/.conda/envs/clip/lib/python3.9/site-packages/diffusers/models/attention.py:198\u001b[0m, in \u001b[0;36mJointTransformerBlock.forward\u001b[0;34m(self, hidden_states, encoder_hidden_states, temb)\u001b[0m\n\u001b[1;32m    194\u001b[0m     norm_hidden_states, gate_msa, shift_mlp, scale_mlp, gate_mlp, norm_hidden_states2, gate_msa2 \u001b[39m=\u001b[39m \u001b[39mself\u001b[39m\u001b[39m.\u001b[39mnorm1(\n\u001b[1;32m    195\u001b[0m         hidden_states, emb\u001b[39m=\u001b[39mtemb\n\u001b[1;32m    196\u001b[0m     )\n\u001b[1;32m    197\u001b[0m \u001b[39melse\u001b[39;00m:\n\u001b[0;32m--> 198\u001b[0m     norm_hidden_states, gate_msa, shift_mlp, scale_mlp, gate_mlp \u001b[39m=\u001b[39m \u001b[39mself\u001b[39;49m\u001b[39m.\u001b[39;49mnorm1(hidden_states, emb\u001b[39m=\u001b[39;49mtemb)\n\u001b[1;32m    200\u001b[0m \u001b[39mif\u001b[39;00m \u001b[39mself\u001b[39m\u001b[39m.\u001b[39mcontext_pre_only:\n\u001b[1;32m    201\u001b[0m     norm_encoder_hidden_states \u001b[39m=\u001b[39m \u001b[39mself\u001b[39m\u001b[39m.\u001b[39mnorm1_context(encoder_hidden_states, temb)\n",
      "File \u001b[0;32m~/.conda/envs/clip/lib/python3.9/site-packages/torch/nn/modules/module.py:1736\u001b[0m, in \u001b[0;36mModule._wrapped_call_impl\u001b[0;34m(self, *args, **kwargs)\u001b[0m\n\u001b[1;32m   1734\u001b[0m     \u001b[39mreturn\u001b[39;00m \u001b[39mself\u001b[39m\u001b[39m.\u001b[39m_compiled_call_impl(\u001b[39m*\u001b[39margs, \u001b[39m*\u001b[39m\u001b[39m*\u001b[39mkwargs)  \u001b[39m# type: ignore[misc]\u001b[39;00m\n\u001b[1;32m   1735\u001b[0m \u001b[39melse\u001b[39;00m:\n\u001b[0;32m-> 1736\u001b[0m     \u001b[39mreturn\u001b[39;00m \u001b[39mself\u001b[39;49m\u001b[39m.\u001b[39;49m_call_impl(\u001b[39m*\u001b[39;49margs, \u001b[39m*\u001b[39;49m\u001b[39m*\u001b[39;49mkwargs)\n",
      "File \u001b[0;32m~/.conda/envs/clip/lib/python3.9/site-packages/torch/nn/modules/module.py:1747\u001b[0m, in \u001b[0;36mModule._call_impl\u001b[0;34m(self, *args, **kwargs)\u001b[0m\n\u001b[1;32m   1742\u001b[0m \u001b[39m# If we don't have any hooks, we want to skip the rest of the logic in\u001b[39;00m\n\u001b[1;32m   1743\u001b[0m \u001b[39m# this function, and just call forward.\u001b[39;00m\n\u001b[1;32m   1744\u001b[0m \u001b[39mif\u001b[39;00m \u001b[39mnot\u001b[39;00m (\u001b[39mself\u001b[39m\u001b[39m.\u001b[39m_backward_hooks \u001b[39mor\u001b[39;00m \u001b[39mself\u001b[39m\u001b[39m.\u001b[39m_backward_pre_hooks \u001b[39mor\u001b[39;00m \u001b[39mself\u001b[39m\u001b[39m.\u001b[39m_forward_hooks \u001b[39mor\u001b[39;00m \u001b[39mself\u001b[39m\u001b[39m.\u001b[39m_forward_pre_hooks\n\u001b[1;32m   1745\u001b[0m         \u001b[39mor\u001b[39;00m _global_backward_pre_hooks \u001b[39mor\u001b[39;00m _global_backward_hooks\n\u001b[1;32m   1746\u001b[0m         \u001b[39mor\u001b[39;00m _global_forward_hooks \u001b[39mor\u001b[39;00m _global_forward_pre_hooks):\n\u001b[0;32m-> 1747\u001b[0m     \u001b[39mreturn\u001b[39;00m forward_call(\u001b[39m*\u001b[39;49margs, \u001b[39m*\u001b[39;49m\u001b[39m*\u001b[39;49mkwargs)\n\u001b[1;32m   1749\u001b[0m result \u001b[39m=\u001b[39m \u001b[39mNone\u001b[39;00m\n\u001b[1;32m   1750\u001b[0m called_always_called_hooks \u001b[39m=\u001b[39m \u001b[39mset\u001b[39m()\n",
      "File \u001b[0;32m~/.conda/envs/clip/lib/python3.9/site-packages/diffusers/models/normalization.py:173\u001b[0m, in \u001b[0;36mAdaLayerNormZero.forward\u001b[0;34m(self, x, timestep, class_labels, hidden_dtype, emb)\u001b[0m\n\u001b[1;32m    171\u001b[0m emb \u001b[39m=\u001b[39m \u001b[39mself\u001b[39m\u001b[39m.\u001b[39mlinear(\u001b[39mself\u001b[39m\u001b[39m.\u001b[39msilu(emb))\n\u001b[1;32m    172\u001b[0m shift_msa, scale_msa, gate_msa, shift_mlp, scale_mlp, gate_mlp \u001b[39m=\u001b[39m emb\u001b[39m.\u001b[39mchunk(\u001b[39m6\u001b[39m, dim\u001b[39m=\u001b[39m\u001b[39m1\u001b[39m)\n\u001b[0;32m--> 173\u001b[0m x \u001b[39m=\u001b[39m \u001b[39mself\u001b[39m\u001b[39m.\u001b[39mnorm(x) \u001b[39m*\u001b[39m (\u001b[39m1\u001b[39;49m \u001b[39m+\u001b[39;49m scale_msa[:, \u001b[39mNone\u001b[39;49;00m]) \u001b[39m+\u001b[39m shift_msa[:, \u001b[39mNone\u001b[39;00m]\n\u001b[1;32m    174\u001b[0m \u001b[39mreturn\u001b[39;00m x, gate_msa, shift_mlp, scale_mlp, gate_mlp\n",
      "\u001b[0;31mKeyboardInterrupt\u001b[0m: "
     ]
    }
   ],
   "source": [
    "from diffusers import DiffusionPipeline\n",
    "import os\n",
    "\n",
    "# Load the Stable Diffusion model\n",
    "pipe = DiffusionPipeline.from_pretrained(\"stabilityai/stable-diffusion-3.5-large\")\n",
    "pipe = pipe.to(\"cuda\")  # Use GPU for faster generation\n",
    "\n",
    "# Define the prompts and the negative prompt\n",
    "prompts = [\n",
    "    \"A stylish sleeveless dress with a flared skirt, adorned with vibrant geometric shapes such as circles, triangles, and squares. The design uses pastel shades of pink, blue, and yellow to create a cheerful appearance. Displayed against a clean white background to highlight the dress’s simplicity and charm.\",\n",
    "    \"A modern casual dress with a sleeveless design, featuring horizontal rainbow stripes in soft pastel hues. The pattern radiates a youthful energy and is set against a plain studio background with even lighting.\",\n",
    "    \"A sleeveless dress with a flared silhouette, decorated with bold black and red polka dots on a crisp white base. The playful design is showcased against a seamless light gray backdrop for a studio-perfect finish.\",\n",
    "    \"A knee-length summer dress with a simple yet vibrant pattern of diagonal stripes in alternating shades of orange, teal, and yellow. The dress exudes a lively vibe, set against a smooth beige background.\",\n",
    "    \"A sleeveless dress with bright pastel color blocks arranged in artistic configurations, blending magenta, green, and orange hues. Displayed on a hanger against a light gradient backdrop.\",\n",
    "    \"A flared dress with alternating vertical stripes in lavender, mint, and peach tones, creating a soft and calming effect. The dress is set against a clean, minimalist studio background.\",\n",
    "    \"A sleeveless dress with colorful overlapping circular patterns resembling bubbles, set on a soft pink base. Displayed against a plain white backdrop for a contemporary appeal.\",\n",
    "    \"A chic sleeveless dress featuring zigzag patterns in bright red, navy blue, and cream. The playful design is presented against a textured neutral background for added depth.\",\n",
    "    \"A casual dress with a checkerboard pattern in bold black and yellow squares, creating a modern and striking appearance. The design is set against a minimalist white studio background.\",\n",
    "    \"A sleeveless dress with a gradient color pattern transitioning smoothly from teal to magenta. Displayed in a clean, airy studio setup with soft lighting.\",\n",
    "    \"An elegant sleeveless dress with a flared skirt, featuring abstract brushstroke-inspired patterns in vibrant shades of blue, green, and yellow. The dress is displayed against a neutral white studio backdrop with soft shadows.\",\n",
    "    \"A sleeveless dress adorned with neon splash patterns in electric blue, pink, and green on a deep black base. Displayed against a textured gray background for a high-fashion feel.\",\n",
    "    \"A summer dress with artistic watercolor-inspired swirls in pastel tones of lavender, sky blue, and soft pink. Displayed on a mannequin against a plain white backdrop for an ethereal look.\",\n",
    "    \"A high-quality sleeveless dress with bold, abstract geometric shapes in orange, teal, and white. The dress is showcased against a gradient studio background for a modern aesthetic.\",\n",
    "    \"A casual sleeveless dress with a flared skirt, featuring artistic splatter patterns in vibrant primary colors of red, blue, and yellow. The design is highlighted against a seamless beige background.\",\n",
    "    \"An elegant evening dress with soft wave patterns in pastel tones of pink and lavender. The sophisticated design is displayed in a minimalistic studio setup with subtle shadows.\",\n",
    "    \"A sleeveless formal dress with intricate mandala-inspired designs in gold and black, creating a regal appearance. The dress is set against a dark velvet backdrop with gentle lighting.\",\n",
    "    \"A sleeveless dress with futuristic glitch-inspired patterns in cyan, magenta, and black, giving it a digital aesthetic. Displayed in a sleek, modern studio environment.\",\n",
    "    \"A glamorous sleeveless dress featuring abstract metallic textures in shimmering silver and gold, set against a black gradient backdrop for dramatic effect.\",\n",
    "    \"A stylish dress with colorful overlapping circles and curved lines, creating a unique optical illusion effect. Displayed against a clean white studio backdrop.\",\n",
    "    \"A sleeveless flared dress featuring vibrant geometric patterns with triangles, lines, and circles in bold shades of orange, teal, and yellow. Showcased against a seamless beige background.\",\n",
    "    \"A knee-length sleeveless dress with intricate lattice patterns in metallic gold and deep navy, creating a sophisticated look. Displayed against a textured dark backdrop.\",\n",
    "    \"A modern sleeveless dress with bold concentric circles in shades of red, white, and black, creating a retro-inspired look. The design is highlighted against a plain studio background.\",\n",
    "    \"A flared sleeveless dress with diamond-shaped patterns in earthy tones of green, brown, and beige, evoking a rustic aesthetic. Displayed against a neutral cream backdrop.\",\n",
    "    \"A casual dress with colorful alternating squares and circles in bright magenta, cyan, and yellow. Displayed on a hanger in a gradient studio environment.\",\n",
    "    \"A sleeveless dress with overlapping hexagonal patterns in metallic tones of gold and silver. Showcased in a minimalist white studio setting.\",\n",
    "    \"A modern casual dress with minimalist grid patterns in soft pastel hues of lavender and mint. The dress is displayed against a smooth light gray backdrop.\",\n",
    "    \"A sleeveless flared dress featuring bold diagonal stripe patterns in vibrant shades of purple, orange, and yellow. Displayed against a clean studio background.\",\n",
    "    \"A high-fashion sleeveless dress with kaleidoscope-inspired geometric patterns in vibrant hues, set against a gradient pastel backdrop.\",\n",
    "    \"A sleeveless flared dress with tessellation-inspired patterns in gold and black, evoking a regal and sophisticated look. Displayed against a sleek black background.\",\n",
    "    \"A sleeveless summer dress with colorful floral patterns featuring roses, daisies, and leaves in shades of pink, green, and yellow. Set against a pastel gradient background.\",\n",
    "    \"An elegant dress with intricate floral embroidery in gold on a deep navy blue base. The dress is displayed against a dark velvet backdrop with soft lighting.\",\n",
    "    \"A sleeveless dress featuring tropical patterns of palm leaves and hibiscus flowers in bright red, yellow, and green, set against a sandy beach-inspired backdrop.\",\n",
    "    \"A casual dress with delicate cherry blossom patterns in soft pinks, displayed against a clean white studio background.\",\n",
    "    \"A stylish dress with sunflower-inspired patterns in shades of yellow, green, and orange. The bright design is set against a cream-colored background.\",\n",
    "    \"A sleeveless dress with fern and vine patterns in soft green hues. Displayed against a rustic wooden backdrop for an earthy aesthetic.\",\n",
    "    \"A knee-length dress with meadow-inspired floral motifs in earthy tones, showcasing wildflowers and butterflies. Displayed against a soft green gradient background.\",\n",
    "    \"A formal sleeveless dress with lace-inspired floral patterns in pastel pink and white, set against a light beige studio background.\",\n",
    "    \"A sleeveless summer dress with hibiscus flower and tropical leaf patterns in vibrant green and red, displayed against a sandy-textured background.\",\n",
    "    \"An elegant sleeveless dress featuring intricate wildflower embroidery in pastel shades, set against a gradient pastel studio background.\",\n",
    "    \"A modern dress with pixelated digital patterns in neon shades of pink, green, and blue, set against a dark studio backdrop.\",\n",
    "    \"A sleeveless dress featuring zebra-inspired black-and-white stripes, displayed against a light gray background for a monochromatic aesthetic.\",\n",
    "    \"A stylish dress with cosmic galaxy patterns in deep shades of blue and purple, showcasing stars and nebulae. Displayed against a black gradient backdrop.\",\n",
    "    \"A modern sleeveless dress with holographic rainbow effects, displayed in a sleek studio with reflective lighting.\",\n",
    "    \"A sleeveless casual dress featuring camouflage patterns in earthy tones of green and brown. Displayed against a seamless beige backdrop.\",\n",
    "    \"A fashionable dress with intricate paisley designs in warm tones of red, orange, and gold. Displayed against a clean white background.\",\n",
    "    \"A futuristic sleeveless dress with circuit board-inspired metallic patterns in shades of green and silver. Displayed in a high-tech studio environment.\",\n",
    "    \"A casual sleeveless dress with tribal-inspired patterns in earthy tones of black, brown, and beige. Displayed against a textured background resembling natural stone.\",\n",
    "    \"An artistic dress featuring ink blot patterns in monochrome shades of black and gray, set against a neutral studio backdrop.\",\n",
    "    \"A high-fashion sleeveless dress inspired by mosaic tiles, featuring bright patterns in shades of blue, yellow, and white. Displayed against a clean white background.\"\n",
    "    # \"A sleeveless A-line dress featuring a pattern of evenly spaced, small pastel triangles arranged in neat rows, against a soft cream background, displayed in a minimal studio setting.\",\n",
    "    # \"A knee-length dress adorned with a subtle grid of tiny, softly colored squares, each placed with ample white space in between, showcased on a crisp ivory fabric and photographed in a clean, neutral environment.\",\n",
    "    # \"A modern sleeveless dress patterned with delicate, miniature plus signs in gentle hues, spaced like polka dots on an off-white backdrop, presented against a simple studio scene.\",\n",
    "    # \"A flared summer dress decorated with a sprinkle of small, rounded diamond shapes, arranged evenly and softly hued, set atop a pale background, captured in a minimal, well-lit setting.\",\n",
    "    # \"An elegant sleeveless dress showcasing a pattern of small, pastel teardrop shapes scattered evenly across a light ivory canvas, styled in a simple, neutral photographic environment.\",\n",
    "    # \"A stylish dress with a simple, vibrant pattern, featuring colorful geometric shapes in pastel shades of pink, blue, and yellow, set against a plain white background.\",\n",
    "    # \"A sleeveless dress with a flared design, adorned with rainbow stripes on a pastel base, displayed in a minimalistic studio setup.\",\n",
    "    # \"A dress with a simple polka dot pattern in red and white, featuring a sleeveless design with a flared skirt, set against a light beige backdrop.\",\n",
    "    # \"A stylish dress with a mix of color blocks in vibrant shades like orange, teal, and magenta, displayed on a hanger with a gradient background.\",\n",
    "    # \"A high-quality image of a sleeveless dress with colorful abstract patterns resembling artistic brushstrokes, combining hues of blue, green, and red, set against a neutral white background.\",\n",
    "    # \"An elegant dress with swirling artistic motifs in gold and black, displayed on a soft textured studio background.\",\n",
    "    # \"A sleeveless dress with watercolor-like pastel patterns in shades of pink and lavender, set against a clean white backdrop.\",\n",
    "    # \"A sleeveless dress with bold graffiti-inspired abstract designs, featuring bright neon colors on a black base, displayed in a modern studio.\",\n",
    "    # \"A fashionable sleeveless dress adorned with vibrant geometric patterns, featuring triangles, circles, and lines in shades of orange, teal, and yellow, showcased on a beige seamless background.\",\n",
    "    # \"A modern dress with bold zigzag patterns in black and white, with hints of red, set against a light textured backdrop.\",\n",
    "    # \"A sleeveless dress featuring concentric circles in bright shades of yellow, blue, and green, displayed against a plain cream-colored background.\",\n",
    "    # \"A sleeveless dress with a digital-inspired pixelated geometric pattern in vibrant shades like cyan, magenta, and orange, set against a white gradient background.\",\n",
    "    # \"A sleeveless summer dress featuring colorful floral patterns with roses, daisies, and leaves in shades of pink, purple, and green, set against a soft gradient pastel background.\",\n",
    "    # \"An elegant dress with intricate floral embroidery in gold on a deep navy base, displayed against a dark velvet-like backdrop.\",\n",
    "    # \"A sleeveless dress with tropical floral patterns featuring hibiscus flowers and palm leaves in vibrant shades of red, yellow, and green, set against a sandy beach-inspired backdrop.\",\n",
    "    # \"A knee-length dress with tiny floral motifs in pastel shades of lilac and white, displayed against a clean and simple white background.\",\n",
    "    # \"A single elegant dress with an abstract artistic pattern featuring colorful strokes, splashes, and curves in bright tones of red, blue, and yellow, set against a plain studio background.\",\n",
    "    # \"A sleeveless dress with bold, abstract shapes inspired by cubist art, in shades of orange, teal, and white, displayed against a textured gray backdrop.\",\n",
    "    # \"A long flowy dress with abstract marbling patterns in shades of purple, green, and gold, set against a light cream background.\",\n",
    "    # \"A modern dress with abstract drip paint patterns in black, white, and metallic silver, displayed in a sleek, minimalistic studio setup.\",\n",
    "    # \"A minimalistic sleeveless dress showcasing just a handful of small, understated abstract marks in gentle hues, spaced out over a white canvas, captured in a clean, minimalist setting.\",\n",
    "    # \"A stylish dress with a simple, vibrant pattern, featuring colorful geometric shapes, floral designs, or abstract motifs, set against a plain white background. The dress has a sleeveless, flared design with bright pastel shades like pink, blue, and yellow.\",\n",
    "    # \"A high-quality image of a sleeveless dress with a flared skirt and colorful abstract patterns. The pattern combines artistic swirls, lines, and dots in shades of blue, green, and red. Displayed in a clean studio setup with a neutral backdrop.\",\n",
    "    # \"A fashionable dress adorned with vibrant geometric patterns in bold colors such as orange, teal, and yellow. The design includes triangles, circles, and lines, with a modern sleeveless silhouette, showcased on a seamless beige background.\",\n",
    "    # \"A sleeveless summer dress featuring a colorful floral pattern with roses, daisies, and leaves in shades of pink, purple, and green. The dress is knee-length with a flared skirt, set against a gradient pastel background.\",\n",
    "    # \"A single elegant dress with an abstract artistic pattern featuring colorful strokes, splashes, and curves in bright tones of red, blue, yellow, and white. Displayed in a minimal studio environment.\"\n",
    "]\n",
    "\n",
    "negative_prompt = \"human figure, person, woman, girl, mannequin, model, face, hands, arms, legs, skin\"\n",
    "\n",
    "# Generate 100 images\n",
    "output_dir = \"generated_dresses/\"\n",
    "os.makedirs(output_dir, exist_ok=True)  # Ensure the output directory exists\n",
    "\n",
    "for i in range(100):\n",
    "    prompt = prompts[i % len(prompts)]  # Cycle through the prompts\n",
    "    print(f\"Generating image {i+1}/10 with prompt: {prompt}\")\n",
    "    image = pipe(prompt, negative_prompt=negative_prompt, num_inference_steps=50, guidance_scale=7.5).images[0]\n",
    "    image.save(f\"{output_dir}dress_{i+1:03d}.png\")\n",
    "\n",
    "\n",
    "print(\"Image generation completed!\")"
   ]
  }
 ],
 "metadata": {
  "kernelspec": {
   "display_name": "clip",
   "language": "python",
   "name": "python3"
  },
  "language_info": {
   "codemirror_mode": {
    "name": "ipython",
    "version": 3
   },
   "file_extension": ".py",
   "mimetype": "text/x-python",
   "name": "python",
   "nbconvert_exporter": "python",
   "pygments_lexer": "ipython3",
   "version": "3.9.20"
  }
 },
 "nbformat": 4,
 "nbformat_minor": 2
}
