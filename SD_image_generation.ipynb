{
 "cells": [
  {
   "cell_type": "code",
   "execution_count": 1,
   "metadata": {},
   "outputs": [
    {
     "name": "stderr",
     "output_type": "stream",
     "text": [
      "/home/ptummal3/.conda/envs/clip/lib/python3.9/site-packages/tqdm/auto.py:21: TqdmWarning: IProgress not found. Please update jupyter and ipywidgets. See https://ipywidgets.readthedocs.io/en/stable/user_install.html\n",
      "  from .autonotebook import tqdm as notebook_tqdm\n",
      "Loading checkpoint shards: 100%|██████████| 2/2 [00:20<00:00, 10.38s/it]s/it]\n",
      "Loading pipeline components...:  78%|███████▊  | 7/9 [01:12<00:28, 14.02s/it]You set `add_prefix_space`. The tokenizer needs to be converted from the slow tokenizers\n",
      "Loading pipeline components...: 100%|██████████| 9/9 [01:15<00:00,  8.37s/it]\n"
     ]
    },
    {
     "name": "stdout",
     "output_type": "stream",
     "text": [
      "Generating image 1/10 with prompt: A stylish sleeveless dress with a flared skirt, adorned with vibrant geometric shapes such as circles, triangles, and squares. The design uses pastel shades of pink, blue, and yellow to create a cheerful appearance. Displayed against a clean white background to highlight the dress’s simplicity and charm.\n"
     ]
    },
    {
     "name": "stderr",
     "output_type": "stream",
     "text": [
      "100%|██████████| 50/50 [02:49<00:00,  3.39s/it]\n"
     ]
    },
    {
     "name": "stdout",
     "output_type": "stream",
     "text": [
      "Generating image 2/10 with prompt: A modern casual dress with a sleeveless design, featuring horizontal rainbow stripes in soft pastel hues. The pattern radiates a youthful energy and is set against a plain studio background with even lighting.\n"
     ]
    },
    {
     "name": "stderr",
     "output_type": "stream",
     "text": [
      "100%|██████████| 50/50 [02:49<00:00,  3.38s/it]\n"
     ]
    },
    {
     "name": "stdout",
     "output_type": "stream",
     "text": [
      "Generating image 3/10 with prompt: A sleeveless dress with a flared silhouette, decorated with bold black and red polka dots on a crisp white base. The playful design is showcased against a seamless light gray backdrop for a studio-perfect finish.\n"
     ]
    },
    {
     "name": "stderr",
     "output_type": "stream",
     "text": [
      "100%|██████████| 50/50 [02:49<00:00,  3.38s/it]\n"
     ]
    },
    {
     "name": "stdout",
     "output_type": "stream",
     "text": [
      "Generating image 4/10 with prompt: A knee-length summer dress with a simple yet vibrant pattern of diagonal stripes in alternating shades of orange, teal, and yellow. The dress exudes a lively vibe, set against a smooth beige background.\n"
     ]
    },
    {
     "name": "stderr",
     "output_type": "stream",
     "text": [
      "100%|██████████| 50/50 [02:48<00:00,  3.38s/it]\n"
     ]
    },
    {
     "name": "stdout",
     "output_type": "stream",
     "text": [
      "Generating image 5/10 with prompt: A sleeveless dress with bright pastel color blocks arranged in artistic configurations, blending magenta, green, and orange hues. Displayed on a hanger against a light gradient backdrop.\n"
     ]
    },
    {
     "name": "stderr",
     "output_type": "stream",
     "text": [
      "100%|██████████| 50/50 [02:48<00:00,  3.37s/it]\n"
     ]
    },
    {
     "name": "stdout",
     "output_type": "stream",
     "text": [
      "Generating image 6/10 with prompt: A flared dress with alternating vertical stripes in lavender, mint, and peach tones, creating a soft and calming effect. The dress is set against a clean, minimalist studio background.\n"
     ]
    },
    {
     "name": "stderr",
     "output_type": "stream",
     "text": [
      "100%|██████████| 50/50 [02:48<00:00,  3.38s/it]\n"
     ]
    },
    {
     "name": "stdout",
     "output_type": "stream",
     "text": [
      "Generating image 7/10 with prompt: A sleeveless dress with colorful overlapping circular patterns resembling bubbles, set on a soft pink base. Displayed against a plain white backdrop for a contemporary appeal.\n"
     ]
    },
    {
     "name": "stderr",
     "output_type": "stream",
     "text": [
      "100%|██████████| 50/50 [02:48<00:00,  3.38s/it]\n"
     ]
    },
    {
     "name": "stdout",
     "output_type": "stream",
     "text": [
      "Generating image 8/10 with prompt: A chic sleeveless dress featuring zigzag patterns in bright red, navy blue, and cream. The playful design is presented against a textured neutral background for added depth.\n"
     ]
    },
    {
     "name": "stderr",
     "output_type": "stream",
     "text": [
      "100%|██████████| 50/50 [02:48<00:00,  3.38s/it]\n"
     ]
    },
    {
     "name": "stdout",
     "output_type": "stream",
     "text": [
      "Generating image 9/10 with prompt: A casual dress with a checkerboard pattern in bold black and yellow squares, creating a modern and striking appearance. The design is set against a minimalist white studio background.\n"
     ]
    },
    {
     "name": "stderr",
     "output_type": "stream",
     "text": [
      "100%|██████████| 50/50 [02:48<00:00,  3.38s/it]\n"
     ]
    },
    {
     "name": "stdout",
     "output_type": "stream",
     "text": [
      "Generating image 10/10 with prompt: A sleeveless dress with a gradient color pattern transitioning smoothly from teal to magenta. Displayed in a clean, airy studio setup with soft lighting.\n"
     ]
    },
    {
     "name": "stderr",
     "output_type": "stream",
     "text": [
      "100%|██████████| 50/50 [02:48<00:00,  3.38s/it]\n"
     ]
    },
    {
     "name": "stdout",
     "output_type": "stream",
     "text": [
      "Generating image 11/10 with prompt: An elegant sleeveless dress with a flared skirt, featuring abstract brushstroke-inspired patterns in vibrant shades of blue, green, and yellow. The dress is displayed against a neutral white studio backdrop with soft shadows.\n"
     ]
    },
    {
     "name": "stderr",
     "output_type": "stream",
     "text": [
      "100%|██████████| 50/50 [02:48<00:00,  3.38s/it]\n"
     ]
    },
    {
     "name": "stdout",
     "output_type": "stream",
     "text": [
      "Generating image 12/10 with prompt: A sleeveless dress adorned with neon splash patterns in electric blue, pink, and green on a deep black base. Displayed against a textured gray background for a high-fashion feel.\n"
     ]
    },
    {
     "name": "stderr",
     "output_type": "stream",
     "text": [
      "100%|██████████| 50/50 [02:48<00:00,  3.38s/it]\n"
     ]
    },
    {
     "name": "stdout",
     "output_type": "stream",
     "text": [
      "Generating image 13/10 with prompt: A summer dress with artistic watercolor-inspired swirls in pastel tones of lavender, sky blue, and soft pink. Displayed on a mannequin against a plain white backdrop for an ethereal look.\n"
     ]
    },
    {
     "name": "stderr",
     "output_type": "stream",
     "text": [
      "100%|██████████| 50/50 [02:49<00:00,  3.38s/it]\n"
     ]
    },
    {
     "name": "stdout",
     "output_type": "stream",
     "text": [
      "Generating image 14/10 with prompt: A high-quality sleeveless dress with bold, abstract geometric shapes in orange, teal, and white. The dress is showcased against a gradient studio background for a modern aesthetic.\n"
     ]
    },
    {
     "name": "stderr",
     "output_type": "stream",
     "text": [
      "100%|██████████| 50/50 [02:48<00:00,  3.38s/it]\n"
     ]
    },
    {
     "name": "stdout",
     "output_type": "stream",
     "text": [
      "Generating image 15/10 with prompt: A casual sleeveless dress with a flared skirt, featuring artistic splatter patterns in vibrant primary colors of red, blue, and yellow. The design is highlighted against a seamless beige background.\n"
     ]
    },
    {
     "name": "stderr",
     "output_type": "stream",
     "text": [
      "100%|██████████| 50/50 [02:49<00:00,  3.38s/it]\n"
     ]
    },
    {
     "name": "stdout",
     "output_type": "stream",
     "text": [
      "Generating image 16/10 with prompt: An elegant evening dress with soft wave patterns in pastel tones of pink and lavender. The sophisticated design is displayed in a minimalistic studio setup with subtle shadows.\n"
     ]
    },
    {
     "name": "stderr",
     "output_type": "stream",
     "text": [
      "100%|██████████| 50/50 [02:48<00:00,  3.38s/it]\n"
     ]
    },
    {
     "name": "stdout",
     "output_type": "stream",
     "text": [
      "Generating image 17/10 with prompt: A sleeveless formal dress with intricate mandala-inspired designs in gold and black, creating a regal appearance. The dress is set against a dark velvet backdrop with gentle lighting.\n"
     ]
    },
    {
     "name": "stderr",
     "output_type": "stream",
     "text": [
      "100%|██████████| 50/50 [02:48<00:00,  3.38s/it]\n"
     ]
    },
    {
     "name": "stdout",
     "output_type": "stream",
     "text": [
      "Generating image 18/10 with prompt: A sleeveless dress with futuristic glitch-inspired patterns in cyan, magenta, and black, giving it a digital aesthetic. Displayed in a sleek, modern studio environment.\n"
     ]
    },
    {
     "name": "stderr",
     "output_type": "stream",
     "text": [
      "100%|██████████| 50/50 [02:48<00:00,  3.38s/it]\n"
     ]
    },
    {
     "name": "stdout",
     "output_type": "stream",
     "text": [
      "Generating image 19/10 with prompt: A glamorous sleeveless dress featuring abstract metallic textures in shimmering silver and gold, set against a black gradient backdrop for dramatic effect.\n"
     ]
    },
    {
     "name": "stderr",
     "output_type": "stream",
     "text": [
      "100%|██████████| 50/50 [02:48<00:00,  3.38s/it]\n"
     ]
    },
    {
     "name": "stdout",
     "output_type": "stream",
     "text": [
      "Generating image 20/10 with prompt: A stylish dress with colorful overlapping circles and curved lines, creating a unique optical illusion effect. Displayed against a clean white studio backdrop.\n"
     ]
    },
    {
     "name": "stderr",
     "output_type": "stream",
     "text": [
      "100%|██████████| 50/50 [02:48<00:00,  3.38s/it]\n"
     ]
    },
    {
     "name": "stdout",
     "output_type": "stream",
     "text": [
      "Generating image 21/10 with prompt: A sleeveless flared dress featuring vibrant geometric patterns with triangles, lines, and circles in bold shades of orange, teal, and yellow. Showcased against a seamless beige background.\n"
     ]
    },
    {
     "name": "stderr",
     "output_type": "stream",
     "text": [
      "100%|██████████| 50/50 [02:48<00:00,  3.38s/it]\n"
     ]
    },
    {
     "name": "stdout",
     "output_type": "stream",
     "text": [
      "Generating image 22/10 with prompt: A knee-length sleeveless dress with intricate lattice patterns in metallic gold and deep navy, creating a sophisticated look. Displayed against a textured dark backdrop.\n"
     ]
    },
    {
     "name": "stderr",
     "output_type": "stream",
     "text": [
      "100%|██████████| 50/50 [02:48<00:00,  3.38s/it]\n"
     ]
    },
    {
     "name": "stdout",
     "output_type": "stream",
     "text": [
      "Generating image 23/10 with prompt: A modern sleeveless dress with bold concentric circles in shades of red, white, and black, creating a retro-inspired look. The design is highlighted against a plain studio background.\n"
     ]
    },
    {
     "name": "stderr",
     "output_type": "stream",
     "text": [
      "100%|██████████| 50/50 [02:48<00:00,  3.38s/it]\n"
     ]
    },
    {
     "name": "stdout",
     "output_type": "stream",
     "text": [
      "Generating image 24/10 with prompt: A flared sleeveless dress with diamond-shaped patterns in earthy tones of green, brown, and beige, evoking a rustic aesthetic. Displayed against a neutral cream backdrop.\n"
     ]
    },
    {
     "name": "stderr",
     "output_type": "stream",
     "text": [
      "100%|██████████| 50/50 [02:48<00:00,  3.38s/it]\n"
     ]
    },
    {
     "name": "stdout",
     "output_type": "stream",
     "text": [
      "Generating image 25/10 with prompt: A casual dress with colorful alternating squares and circles in bright magenta, cyan, and yellow. Displayed on a hanger in a gradient studio environment.\n"
     ]
    },
    {
     "name": "stderr",
     "output_type": "stream",
     "text": [
      "100%|██████████| 50/50 [02:48<00:00,  3.38s/it]\n"
     ]
    },
    {
     "name": "stdout",
     "output_type": "stream",
     "text": [
      "Generating image 26/10 with prompt: A sleeveless dress with overlapping hexagonal patterns in metallic tones of gold and silver. Showcased in a minimalist white studio setting.\n"
     ]
    },
    {
     "name": "stderr",
     "output_type": "stream",
     "text": [
      "100%|██████████| 50/50 [02:49<00:00,  3.38s/it]\n"
     ]
    },
    {
     "name": "stdout",
     "output_type": "stream",
     "text": [
      "Generating image 27/10 with prompt: A modern casual dress with minimalist grid patterns in soft pastel hues of lavender and mint. The dress is displayed against a smooth light gray backdrop.\n"
     ]
    },
    {
     "name": "stderr",
     "output_type": "stream",
     "text": [
      "100%|██████████| 50/50 [02:49<00:00,  3.38s/it]\n"
     ]
    },
    {
     "name": "stdout",
     "output_type": "stream",
     "text": [
      "Generating image 28/10 with prompt: A sleeveless flared dress featuring bold diagonal stripe patterns in vibrant shades of purple, orange, and yellow. Displayed against a clean studio background.\n"
     ]
    },
    {
     "name": "stderr",
     "output_type": "stream",
     "text": [
      "100%|██████████| 50/50 [02:49<00:00,  3.38s/it]\n"
     ]
    },
    {
     "name": "stdout",
     "output_type": "stream",
     "text": [
      "Generating image 29/10 with prompt: A high-fashion sleeveless dress with kaleidoscope-inspired geometric patterns in vibrant hues, set against a gradient pastel backdrop.\n"
     ]
    },
    {
     "name": "stderr",
     "output_type": "stream",
     "text": [
      "100%|██████████| 50/50 [02:48<00:00,  3.38s/it]\n"
     ]
    },
    {
     "name": "stdout",
     "output_type": "stream",
     "text": [
      "Generating image 30/10 with prompt: A sleeveless flared dress with tessellation-inspired patterns in gold and black, evoking a regal and sophisticated look. Displayed against a sleek black background.\n"
     ]
    },
    {
     "name": "stderr",
     "output_type": "stream",
     "text": [
      "100%|██████████| 50/50 [02:48<00:00,  3.38s/it]\n"
     ]
    },
    {
     "name": "stdout",
     "output_type": "stream",
     "text": [
      "Generating image 31/10 with prompt: A sleeveless summer dress with colorful floral patterns featuring roses, daisies, and leaves in shades of pink, green, and yellow. Set against a pastel gradient background.\n"
     ]
    },
    {
     "name": "stderr",
     "output_type": "stream",
     "text": [
      "100%|██████████| 50/50 [02:48<00:00,  3.38s/it]\n"
     ]
    },
    {
     "name": "stdout",
     "output_type": "stream",
     "text": [
      "Generating image 32/10 with prompt: An elegant dress with intricate floral embroidery in gold on a deep navy blue base. The dress is displayed against a dark velvet backdrop with soft lighting.\n"
     ]
    },
    {
     "name": "stderr",
     "output_type": "stream",
     "text": [
      "100%|██████████| 50/50 [02:49<00:00,  3.38s/it]\n"
     ]
    },
    {
     "name": "stdout",
     "output_type": "stream",
     "text": [
      "Generating image 33/10 with prompt: A sleeveless dress featuring tropical patterns of palm leaves and hibiscus flowers in bright red, yellow, and green, set against a sandy beach-inspired backdrop.\n"
     ]
    },
    {
     "name": "stderr",
     "output_type": "stream",
     "text": [
      "100%|██████████| 50/50 [02:48<00:00,  3.38s/it]\n"
     ]
    },
    {
     "name": "stdout",
     "output_type": "stream",
     "text": [
      "Generating image 34/10 with prompt: A casual dress with delicate cherry blossom patterns in soft pinks, displayed against a clean white studio background.\n"
     ]
    },
    {
     "name": "stderr",
     "output_type": "stream",
     "text": [
      "100%|██████████| 50/50 [02:48<00:00,  3.37s/it]\n"
     ]
    },
    {
     "name": "stdout",
     "output_type": "stream",
     "text": [
      "Generating image 35/10 with prompt: A stylish dress with sunflower-inspired patterns in shades of yellow, green, and orange. The bright design is set against a cream-colored background.\n"
     ]
    },
    {
     "name": "stderr",
     "output_type": "stream",
     "text": [
      "100%|██████████| 50/50 [02:49<00:00,  3.38s/it]\n"
     ]
    },
    {
     "name": "stdout",
     "output_type": "stream",
     "text": [
      "Generating image 36/10 with prompt: A sleeveless dress with fern and vine patterns in soft green hues. Displayed against a rustic wooden backdrop for an earthy aesthetic.\n"
     ]
    },
    {
     "name": "stderr",
     "output_type": "stream",
     "text": [
      "100%|██████████| 50/50 [02:48<00:00,  3.38s/it]\n"
     ]
    },
    {
     "name": "stdout",
     "output_type": "stream",
     "text": [
      "Generating image 37/10 with prompt: A knee-length dress with meadow-inspired floral motifs in earthy tones, showcasing wildflowers and butterflies. Displayed against a soft green gradient background.\n"
     ]
    },
    {
     "name": "stderr",
     "output_type": "stream",
     "text": [
      "100%|██████████| 50/50 [02:48<00:00,  3.38s/it]\n"
     ]
    },
    {
     "name": "stdout",
     "output_type": "stream",
     "text": [
      "Generating image 38/10 with prompt: A formal sleeveless dress with lace-inspired floral patterns in pastel pink and white, set against a light beige studio background.\n"
     ]
    },
    {
     "name": "stderr",
     "output_type": "stream",
     "text": [
      "100%|██████████| 50/50 [02:49<00:00,  3.38s/it]\n"
     ]
    },
    {
     "name": "stdout",
     "output_type": "stream",
     "text": [
      "Generating image 39/10 with prompt: A sleeveless summer dress with hibiscus flower and tropical leaf patterns in vibrant green and red, displayed against a sandy-textured background.\n"
     ]
    },
    {
     "name": "stderr",
     "output_type": "stream",
     "text": [
      "100%|██████████| 50/50 [02:48<00:00,  3.38s/it]\n"
     ]
    },
    {
     "name": "stdout",
     "output_type": "stream",
     "text": [
      "Generating image 40/10 with prompt: An elegant sleeveless dress featuring intricate wildflower embroidery in pastel shades, set against a gradient pastel studio background.\n"
     ]
    },
    {
     "name": "stderr",
     "output_type": "stream",
     "text": [
      "100%|██████████| 50/50 [02:48<00:00,  3.38s/it]\n"
     ]
    },
    {
     "name": "stdout",
     "output_type": "stream",
     "text": [
      "Generating image 41/10 with prompt: A modern dress with pixelated digital patterns in neon shades of pink, green, and blue, set against a dark studio backdrop.\n"
     ]
    },
    {
     "name": "stderr",
     "output_type": "stream",
     "text": [
      "100%|██████████| 50/50 [02:48<00:00,  3.38s/it]\n"
     ]
    },
    {
     "name": "stdout",
     "output_type": "stream",
     "text": [
      "Generating image 42/10 with prompt: A sleeveless dress featuring zebra-inspired black-and-white stripes, displayed against a light gray background for a monochromatic aesthetic.\n"
     ]
    },
    {
     "name": "stderr",
     "output_type": "stream",
     "text": [
      "100%|██████████| 50/50 [02:48<00:00,  3.38s/it]\n"
     ]
    },
    {
     "name": "stdout",
     "output_type": "stream",
     "text": [
      "Generating image 43/10 with prompt: A stylish dress with cosmic galaxy patterns in deep shades of blue and purple, showcasing stars and nebulae. Displayed against a black gradient backdrop.\n"
     ]
    },
    {
     "name": "stderr",
     "output_type": "stream",
     "text": [
      "100%|██████████| 50/50 [02:48<00:00,  3.38s/it]\n"
     ]
    },
    {
     "name": "stdout",
     "output_type": "stream",
     "text": [
      "Generating image 44/10 with prompt: A modern sleeveless dress with holographic rainbow effects, displayed in a sleek studio with reflective lighting.\n"
     ]
    },
    {
     "name": "stderr",
     "output_type": "stream",
     "text": [
      "100%|██████████| 50/50 [02:48<00:00,  3.37s/it]\n"
     ]
    },
    {
     "name": "stdout",
     "output_type": "stream",
     "text": [
      "Generating image 45/10 with prompt: A sleeveless casual dress featuring camouflage patterns in earthy tones of green and brown. Displayed against a seamless beige backdrop.\n"
     ]
    },
    {
     "name": "stderr",
     "output_type": "stream",
     "text": [
      "100%|██████████| 50/50 [02:48<00:00,  3.38s/it]\n"
     ]
    },
    {
     "name": "stdout",
     "output_type": "stream",
     "text": [
      "Generating image 46/10 with prompt: A fashionable dress with intricate paisley designs in warm tones of red, orange, and gold. Displayed against a clean white background.\n"
     ]
    },
    {
     "name": "stderr",
     "output_type": "stream",
     "text": [
      "100%|██████████| 50/50 [02:48<00:00,  3.38s/it]\n"
     ]
    },
    {
     "name": "stdout",
     "output_type": "stream",
     "text": [
      "Generating image 47/10 with prompt: A futuristic sleeveless dress with circuit board-inspired metallic patterns in shades of green and silver. Displayed in a high-tech studio environment.\n"
     ]
    },
    {
     "name": "stderr",
     "output_type": "stream",
     "text": [
      "100%|██████████| 50/50 [02:48<00:00,  3.37s/it]\n"
     ]
    },
    {
     "name": "stdout",
     "output_type": "stream",
     "text": [
      "Generating image 48/10 with prompt: A casual sleeveless dress with tribal-inspired patterns in earthy tones of black, brown, and beige. Displayed against a textured background resembling natural stone.\n"
     ]
    },
    {
     "name": "stderr",
     "output_type": "stream",
     "text": [
      "100%|██████████| 50/50 [02:49<00:00,  3.38s/it]\n"
     ]
    },
    {
     "name": "stdout",
     "output_type": "stream",
     "text": [
      "Generating image 49/10 with prompt: An artistic dress featuring ink blot patterns in monochrome shades of black and gray, set against a neutral studio backdrop.\n"
     ]
    },
    {
     "name": "stderr",
     "output_type": "stream",
     "text": [
      "100%|██████████| 50/50 [02:48<00:00,  3.38s/it]\n"
     ]
    },
    {
     "name": "stdout",
     "output_type": "stream",
     "text": [
      "Generating image 50/10 with prompt: A high-fashion sleeveless dress inspired by mosaic tiles, featuring bright patterns in shades of blue, yellow, and white. Displayed against a clean white background.\n"
     ]
    },
    {
     "name": "stderr",
     "output_type": "stream",
     "text": [
      "100%|██████████| 50/50 [02:48<00:00,  3.38s/it]\n"
     ]
    },
    {
     "name": "stdout",
     "output_type": "stream",
     "text": [
      "Generating image 51/10 with prompt: A stylish sleeveless dress with a flared skirt, adorned with vibrant geometric shapes such as circles, triangles, and squares. The design uses pastel shades of pink, blue, and yellow to create a cheerful appearance. Displayed against a clean white background to highlight the dress’s simplicity and charm.\n"
     ]
    },
    {
     "name": "stderr",
     "output_type": "stream",
     "text": [
      "100%|██████████| 50/50 [02:48<00:00,  3.38s/it]\n"
     ]
    },
    {
     "name": "stdout",
     "output_type": "stream",
     "text": [
      "Generating image 52/10 with prompt: A modern casual dress with a sleeveless design, featuring horizontal rainbow stripes in soft pastel hues. The pattern radiates a youthful energy and is set against a plain studio background with even lighting.\n"
     ]
    },
    {
     "name": "stderr",
     "output_type": "stream",
     "text": [
      "100%|██████████| 50/50 [02:48<00:00,  3.38s/it]\n"
     ]
    },
    {
     "name": "stdout",
     "output_type": "stream",
     "text": [
      "Generating image 53/10 with prompt: A sleeveless dress with a flared silhouette, decorated with bold black and red polka dots on a crisp white base. The playful design is showcased against a seamless light gray backdrop for a studio-perfect finish.\n"
     ]
    },
    {
     "name": "stderr",
     "output_type": "stream",
     "text": [
      "100%|██████████| 50/50 [02:48<00:00,  3.38s/it]\n"
     ]
    },
    {
     "name": "stdout",
     "output_type": "stream",
     "text": [
      "Generating image 54/10 with prompt: A knee-length summer dress with a simple yet vibrant pattern of diagonal stripes in alternating shades of orange, teal, and yellow. The dress exudes a lively vibe, set against a smooth beige background.\n"
     ]
    },
    {
     "name": "stderr",
     "output_type": "stream",
     "text": [
      "100%|██████████| 50/50 [02:48<00:00,  3.38s/it]\n"
     ]
    },
    {
     "name": "stdout",
     "output_type": "stream",
     "text": [
      "Generating image 55/10 with prompt: A sleeveless dress with bright pastel color blocks arranged in artistic configurations, blending magenta, green, and orange hues. Displayed on a hanger against a light gradient backdrop.\n"
     ]
    },
    {
     "name": "stderr",
     "output_type": "stream",
     "text": [
      "100%|██████████| 50/50 [02:49<00:00,  3.38s/it]\n"
     ]
    },
    {
     "name": "stdout",
     "output_type": "stream",
     "text": [
      "Generating image 56/10 with prompt: A flared dress with alternating vertical stripes in lavender, mint, and peach tones, creating a soft and calming effect. The dress is set against a clean, minimalist studio background.\n"
     ]
    },
    {
     "name": "stderr",
     "output_type": "stream",
     "text": [
      "100%|██████████| 50/50 [02:49<00:00,  3.38s/it]\n"
     ]
    },
    {
     "name": "stdout",
     "output_type": "stream",
     "text": [
      "Generating image 57/10 with prompt: A sleeveless dress with colorful overlapping circular patterns resembling bubbles, set on a soft pink base. Displayed against a plain white backdrop for a contemporary appeal.\n"
     ]
    },
    {
     "name": "stderr",
     "output_type": "stream",
     "text": [
      "100%|██████████| 50/50 [02:48<00:00,  3.37s/it]\n"
     ]
    },
    {
     "name": "stdout",
     "output_type": "stream",
     "text": [
      "Generating image 58/10 with prompt: A chic sleeveless dress featuring zigzag patterns in bright red, navy blue, and cream. The playful design is presented against a textured neutral background for added depth.\n"
     ]
    },
    {
     "name": "stderr",
     "output_type": "stream",
     "text": [
      "100%|██████████| 50/50 [02:48<00:00,  3.38s/it]\n"
     ]
    },
    {
     "name": "stdout",
     "output_type": "stream",
     "text": [
      "Generating image 59/10 with prompt: A casual dress with a checkerboard pattern in bold black and yellow squares, creating a modern and striking appearance. The design is set against a minimalist white studio background.\n"
     ]
    },
    {
     "name": "stderr",
     "output_type": "stream",
     "text": [
      "100%|██████████| 50/50 [02:48<00:00,  3.38s/it]\n"
     ]
    },
    {
     "name": "stdout",
     "output_type": "stream",
     "text": [
      "Generating image 60/10 with prompt: A sleeveless dress with a gradient color pattern transitioning smoothly from teal to magenta. Displayed in a clean, airy studio setup with soft lighting.\n"
     ]
    },
    {
     "name": "stderr",
     "output_type": "stream",
     "text": [
      "100%|██████████| 50/50 [02:48<00:00,  3.37s/it]\n"
     ]
    },
    {
     "name": "stdout",
     "output_type": "stream",
     "text": [
      "Generating image 61/10 with prompt: An elegant sleeveless dress with a flared skirt, featuring abstract brushstroke-inspired patterns in vibrant shades of blue, green, and yellow. The dress is displayed against a neutral white studio backdrop with soft shadows.\n"
     ]
    },
    {
     "name": "stderr",
     "output_type": "stream",
     "text": [
      "100%|██████████| 50/50 [02:48<00:00,  3.38s/it]\n"
     ]
    },
    {
     "name": "stdout",
     "output_type": "stream",
     "text": [
      "Generating image 62/10 with prompt: A sleeveless dress adorned with neon splash patterns in electric blue, pink, and green on a deep black base. Displayed against a textured gray background for a high-fashion feel.\n"
     ]
    },
    {
     "name": "stderr",
     "output_type": "stream",
     "text": [
      "100%|██████████| 50/50 [02:48<00:00,  3.38s/it]\n"
     ]
    },
    {
     "name": "stdout",
     "output_type": "stream",
     "text": [
      "Generating image 63/10 with prompt: A summer dress with artistic watercolor-inspired swirls in pastel tones of lavender, sky blue, and soft pink. Displayed on a mannequin against a plain white backdrop for an ethereal look.\n"
     ]
    },
    {
     "name": "stderr",
     "output_type": "stream",
     "text": [
      "100%|██████████| 50/50 [02:49<00:00,  3.38s/it]\n"
     ]
    },
    {
     "name": "stdout",
     "output_type": "stream",
     "text": [
      "Generating image 64/10 with prompt: A high-quality sleeveless dress with bold, abstract geometric shapes in orange, teal, and white. The dress is showcased against a gradient studio background for a modern aesthetic.\n"
     ]
    },
    {
     "name": "stderr",
     "output_type": "stream",
     "text": [
      "100%|██████████| 50/50 [02:48<00:00,  3.37s/it]\n"
     ]
    },
    {
     "name": "stdout",
     "output_type": "stream",
     "text": [
      "Generating image 65/10 with prompt: A casual sleeveless dress with a flared skirt, featuring artistic splatter patterns in vibrant primary colors of red, blue, and yellow. The design is highlighted against a seamless beige background.\n"
     ]
    },
    {
     "name": "stderr",
     "output_type": "stream",
     "text": [
      "100%|██████████| 50/50 [02:48<00:00,  3.38s/it]\n"
     ]
    },
    {
     "name": "stdout",
     "output_type": "stream",
     "text": [
      "Generating image 66/10 with prompt: An elegant evening dress with soft wave patterns in pastel tones of pink and lavender. The sophisticated design is displayed in a minimalistic studio setup with subtle shadows.\n"
     ]
    },
    {
     "name": "stderr",
     "output_type": "stream",
     "text": [
      "100%|██████████| 50/50 [02:48<00:00,  3.37s/it]\n"
     ]
    },
    {
     "name": "stdout",
     "output_type": "stream",
     "text": [
      "Generating image 67/10 with prompt: A sleeveless formal dress with intricate mandala-inspired designs in gold and black, creating a regal appearance. The dress is set against a dark velvet backdrop with gentle lighting.\n"
     ]
    },
    {
     "name": "stderr",
     "output_type": "stream",
     "text": [
      "100%|██████████| 50/50 [02:48<00:00,  3.38s/it]\n"
     ]
    },
    {
     "name": "stdout",
     "output_type": "stream",
     "text": [
      "Generating image 68/10 with prompt: A sleeveless dress with futuristic glitch-inspired patterns in cyan, magenta, and black, giving it a digital aesthetic. Displayed in a sleek, modern studio environment.\n"
     ]
    },
    {
     "name": "stderr",
     "output_type": "stream",
     "text": [
      "100%|██████████| 50/50 [02:49<00:00,  3.38s/it]\n"
     ]
    },
    {
     "name": "stdout",
     "output_type": "stream",
     "text": [
      "Generating image 69/10 with prompt: A glamorous sleeveless dress featuring abstract metallic textures in shimmering silver and gold, set against a black gradient backdrop for dramatic effect.\n"
     ]
    },
    {
     "name": "stderr",
     "output_type": "stream",
     "text": [
      "100%|██████████| 50/50 [02:48<00:00,  3.38s/it]\n"
     ]
    },
    {
     "name": "stdout",
     "output_type": "stream",
     "text": [
      "Generating image 70/10 with prompt: A stylish dress with colorful overlapping circles and curved lines, creating a unique optical illusion effect. Displayed against a clean white studio backdrop.\n"
     ]
    },
    {
     "name": "stderr",
     "output_type": "stream",
     "text": [
      "100%|██████████| 50/50 [02:48<00:00,  3.38s/it]\n"
     ]
    },
    {
     "name": "stdout",
     "output_type": "stream",
     "text": [
      "Generating image 71/10 with prompt: A sleeveless flared dress featuring vibrant geometric patterns with triangles, lines, and circles in bold shades of orange, teal, and yellow. Showcased against a seamless beige background.\n"
     ]
    },
    {
     "name": "stderr",
     "output_type": "stream",
     "text": [
      "100%|██████████| 50/50 [02:48<00:00,  3.38s/it]\n"
     ]
    },
    {
     "name": "stdout",
     "output_type": "stream",
     "text": [
      "Generating image 72/10 with prompt: A knee-length sleeveless dress with intricate lattice patterns in metallic gold and deep navy, creating a sophisticated look. Displayed against a textured dark backdrop.\n"
     ]
    },
    {
     "name": "stderr",
     "output_type": "stream",
     "text": [
      "100%|██████████| 50/50 [02:48<00:00,  3.37s/it]\n"
     ]
    },
    {
     "name": "stdout",
     "output_type": "stream",
     "text": [
      "Generating image 73/10 with prompt: A modern sleeveless dress with bold concentric circles in shades of red, white, and black, creating a retro-inspired look. The design is highlighted against a plain studio background.\n"
     ]
    },
    {
     "name": "stderr",
     "output_type": "stream",
     "text": [
      "100%|██████████| 50/50 [02:49<00:00,  3.38s/it]\n"
     ]
    },
    {
     "name": "stdout",
     "output_type": "stream",
     "text": [
      "Generating image 74/10 with prompt: A flared sleeveless dress with diamond-shaped patterns in earthy tones of green, brown, and beige, evoking a rustic aesthetic. Displayed against a neutral cream backdrop.\n"
     ]
    },
    {
     "name": "stderr",
     "output_type": "stream",
     "text": [
      "100%|██████████| 50/50 [02:48<00:00,  3.38s/it]\n"
     ]
    },
    {
     "name": "stdout",
     "output_type": "stream",
     "text": [
      "Generating image 75/10 with prompt: A casual dress with colorful alternating squares and circles in bright magenta, cyan, and yellow. Displayed on a hanger in a gradient studio environment.\n"
     ]
    },
    {
     "name": "stderr",
     "output_type": "stream",
     "text": [
      "100%|██████████| 50/50 [02:48<00:00,  3.38s/it]\n"
     ]
    },
    {
     "name": "stdout",
     "output_type": "stream",
     "text": [
      "Generating image 76/10 with prompt: A sleeveless dress with overlapping hexagonal patterns in metallic tones of gold and silver. Showcased in a minimalist white studio setting.\n"
     ]
    },
    {
     "name": "stderr",
     "output_type": "stream",
     "text": [
      "100%|██████████| 50/50 [02:48<00:00,  3.38s/it]\n"
     ]
    },
    {
     "name": "stdout",
     "output_type": "stream",
     "text": [
      "Generating image 77/10 with prompt: A modern casual dress with minimalist grid patterns in soft pastel hues of lavender and mint. The dress is displayed against a smooth light gray backdrop.\n"
     ]
    },
    {
     "name": "stderr",
     "output_type": "stream",
     "text": [
      "100%|██████████| 50/50 [02:49<00:00,  3.38s/it]\n"
     ]
    },
    {
     "name": "stdout",
     "output_type": "stream",
     "text": [
      "Generating image 78/10 with prompt: A sleeveless flared dress featuring bold diagonal stripe patterns in vibrant shades of purple, orange, and yellow. Displayed against a clean studio background.\n"
     ]
    },
    {
     "name": "stderr",
     "output_type": "stream",
     "text": [
      "100%|██████████| 50/50 [02:49<00:00,  3.38s/it]\n"
     ]
    },
    {
     "name": "stdout",
     "output_type": "stream",
     "text": [
      "Generating image 79/10 with prompt: A high-fashion sleeveless dress with kaleidoscope-inspired geometric patterns in vibrant hues, set against a gradient pastel backdrop.\n"
     ]
    },
    {
     "name": "stderr",
     "output_type": "stream",
     "text": [
      "100%|██████████| 50/50 [02:48<00:00,  3.38s/it]\n"
     ]
    },
    {
     "name": "stdout",
     "output_type": "stream",
     "text": [
      "Generating image 80/10 with prompt: A sleeveless flared dress with tessellation-inspired patterns in gold and black, evoking a regal and sophisticated look. Displayed against a sleek black background.\n"
     ]
    },
    {
     "name": "stderr",
     "output_type": "stream",
     "text": [
      "100%|██████████| 50/50 [02:48<00:00,  3.37s/it]\n"
     ]
    },
    {
     "name": "stdout",
     "output_type": "stream",
     "text": [
      "Generating image 81/10 with prompt: A sleeveless summer dress with colorful floral patterns featuring roses, daisies, and leaves in shades of pink, green, and yellow. Set against a pastel gradient background.\n"
     ]
    },
    {
     "name": "stderr",
     "output_type": "stream",
     "text": [
      "100%|██████████| 50/50 [02:48<00:00,  3.38s/it]\n"
     ]
    },
    {
     "name": "stdout",
     "output_type": "stream",
     "text": [
      "Generating image 82/10 with prompt: An elegant dress with intricate floral embroidery in gold on a deep navy blue base. The dress is displayed against a dark velvet backdrop with soft lighting.\n"
     ]
    },
    {
     "name": "stderr",
     "output_type": "stream",
     "text": [
      "100%|██████████| 50/50 [02:48<00:00,  3.38s/it]\n"
     ]
    },
    {
     "name": "stdout",
     "output_type": "stream",
     "text": [
      "Generating image 83/10 with prompt: A sleeveless dress featuring tropical patterns of palm leaves and hibiscus flowers in bright red, yellow, and green, set against a sandy beach-inspired backdrop.\n"
     ]
    },
    {
     "name": "stderr",
     "output_type": "stream",
     "text": [
      "100%|██████████| 50/50 [02:48<00:00,  3.38s/it]\n"
     ]
    },
    {
     "name": "stdout",
     "output_type": "stream",
     "text": [
      "Generating image 84/10 with prompt: A casual dress with delicate cherry blossom patterns in soft pinks, displayed against a clean white studio background.\n"
     ]
    },
    {
     "name": "stderr",
     "output_type": "stream",
     "text": [
      "100%|██████████| 50/50 [02:48<00:00,  3.37s/it]\n"
     ]
    },
    {
     "name": "stdout",
     "output_type": "stream",
     "text": [
      "Generating image 85/10 with prompt: A stylish dress with sunflower-inspired patterns in shades of yellow, green, and orange. The bright design is set against a cream-colored background.\n"
     ]
    },
    {
     "name": "stderr",
     "output_type": "stream",
     "text": [
      "100%|██████████| 50/50 [02:48<00:00,  3.38s/it]\n"
     ]
    },
    {
     "name": "stdout",
     "output_type": "stream",
     "text": [
      "Generating image 86/10 with prompt: A sleeveless dress with fern and vine patterns in soft green hues. Displayed against a rustic wooden backdrop for an earthy aesthetic.\n"
     ]
    },
    {
     "name": "stderr",
     "output_type": "stream",
     "text": [
      "100%|██████████| 50/50 [02:48<00:00,  3.38s/it]\n"
     ]
    },
    {
     "name": "stdout",
     "output_type": "stream",
     "text": [
      "Generating image 87/10 with prompt: A knee-length dress with meadow-inspired floral motifs in earthy tones, showcasing wildflowers and butterflies. Displayed against a soft green gradient background.\n"
     ]
    },
    {
     "name": "stderr",
     "output_type": "stream",
     "text": [
      "100%|██████████| 50/50 [02:48<00:00,  3.38s/it]\n"
     ]
    },
    {
     "name": "stdout",
     "output_type": "stream",
     "text": [
      "Generating image 88/10 with prompt: A formal sleeveless dress with lace-inspired floral patterns in pastel pink and white, set against a light beige studio background.\n"
     ]
    },
    {
     "name": "stderr",
     "output_type": "stream",
     "text": [
      "100%|██████████| 50/50 [02:48<00:00,  3.38s/it]\n"
     ]
    },
    {
     "name": "stdout",
     "output_type": "stream",
     "text": [
      "Generating image 89/10 with prompt: A sleeveless summer dress with hibiscus flower and tropical leaf patterns in vibrant green and red, displayed against a sandy-textured background.\n"
     ]
    },
    {
     "name": "stderr",
     "output_type": "stream",
     "text": [
      "100%|██████████| 50/50 [02:48<00:00,  3.38s/it]\n"
     ]
    },
    {
     "name": "stdout",
     "output_type": "stream",
     "text": [
      "Generating image 90/10 with prompt: An elegant sleeveless dress featuring intricate wildflower embroidery in pastel shades, set against a gradient pastel studio background.\n"
     ]
    },
    {
     "name": "stderr",
     "output_type": "stream",
     "text": [
      "100%|██████████| 50/50 [02:48<00:00,  3.38s/it]\n"
     ]
    },
    {
     "name": "stdout",
     "output_type": "stream",
     "text": [
      "Generating image 91/10 with prompt: A modern dress with pixelated digital patterns in neon shades of pink, green, and blue, set against a dark studio backdrop.\n"
     ]
    },
    {
     "name": "stderr",
     "output_type": "stream",
     "text": [
      "100%|██████████| 50/50 [02:49<00:00,  3.38s/it]\n"
     ]
    },
    {
     "name": "stdout",
     "output_type": "stream",
     "text": [
      "Generating image 92/10 with prompt: A sleeveless dress featuring zebra-inspired black-and-white stripes, displayed against a light gray background for a monochromatic aesthetic.\n"
     ]
    },
    {
     "name": "stderr",
     "output_type": "stream",
     "text": [
      "100%|██████████| 50/50 [02:48<00:00,  3.38s/it]\n"
     ]
    },
    {
     "name": "stdout",
     "output_type": "stream",
     "text": [
      "Generating image 93/10 with prompt: A stylish dress with cosmic galaxy patterns in deep shades of blue and purple, showcasing stars and nebulae. Displayed against a black gradient backdrop.\n"
     ]
    },
    {
     "name": "stderr",
     "output_type": "stream",
     "text": [
      "100%|██████████| 50/50 [02:49<00:00,  3.38s/it]\n"
     ]
    },
    {
     "name": "stdout",
     "output_type": "stream",
     "text": [
      "Generating image 94/10 with prompt: A modern sleeveless dress with holographic rainbow effects, displayed in a sleek studio with reflective lighting.\n"
     ]
    },
    {
     "name": "stderr",
     "output_type": "stream",
     "text": [
      "100%|██████████| 50/50 [02:48<00:00,  3.38s/it]\n"
     ]
    },
    {
     "name": "stdout",
     "output_type": "stream",
     "text": [
      "Generating image 95/10 with prompt: A sleeveless casual dress featuring camouflage patterns in earthy tones of green and brown. Displayed against a seamless beige backdrop.\n"
     ]
    },
    {
     "name": "stderr",
     "output_type": "stream",
     "text": [
      "100%|██████████| 50/50 [02:48<00:00,  3.38s/it]\n"
     ]
    },
    {
     "name": "stdout",
     "output_type": "stream",
     "text": [
      "Generating image 96/10 with prompt: A fashionable dress with intricate paisley designs in warm tones of red, orange, and gold. Displayed against a clean white background.\n"
     ]
    },
    {
     "name": "stderr",
     "output_type": "stream",
     "text": [
      "100%|██████████| 50/50 [02:48<00:00,  3.38s/it]\n"
     ]
    },
    {
     "name": "stdout",
     "output_type": "stream",
     "text": [
      "Generating image 97/10 with prompt: A futuristic sleeveless dress with circuit board-inspired metallic patterns in shades of green and silver. Displayed in a high-tech studio environment.\n"
     ]
    },
    {
     "name": "stderr",
     "output_type": "stream",
     "text": [
      "100%|██████████| 50/50 [02:48<00:00,  3.37s/it]\n"
     ]
    },
    {
     "name": "stdout",
     "output_type": "stream",
     "text": [
      "Generating image 98/10 with prompt: A casual sleeveless dress with tribal-inspired patterns in earthy tones of black, brown, and beige. Displayed against a textured background resembling natural stone.\n"
     ]
    },
    {
     "name": "stderr",
     "output_type": "stream",
     "text": [
      "100%|██████████| 50/50 [02:48<00:00,  3.38s/it]\n"
     ]
    },
    {
     "name": "stdout",
     "output_type": "stream",
     "text": [
      "Generating image 99/10 with prompt: An artistic dress featuring ink blot patterns in monochrome shades of black and gray, set against a neutral studio backdrop.\n"
     ]
    },
    {
     "name": "stderr",
     "output_type": "stream",
     "text": [
      "100%|██████████| 50/50 [02:48<00:00,  3.37s/it]\n"
     ]
    },
    {
     "name": "stdout",
     "output_type": "stream",
     "text": [
      "Generating image 100/10 with prompt: A high-fashion sleeveless dress inspired by mosaic tiles, featuring bright patterns in shades of blue, yellow, and white. Displayed against a clean white background.\n"
     ]
    },
    {
     "name": "stderr",
     "output_type": "stream",
     "text": [
      "100%|██████████| 50/50 [02:48<00:00,  3.37s/it]\n"
     ]
    },
    {
     "name": "stdout",
     "output_type": "stream",
     "text": [
      "Image generation completed!\n"
     ]
    }
   ],
   "source": [
    "from diffusers import DiffusionPipeline\n",
    "import os\n",
    "\n",
    "# Load the Stable Diffusion model\n",
    "pipe = DiffusionPipeline.from_pretrained(\"stabilityai/stable-diffusion-3.5-large\")\n",
    "pipe = pipe.to(\"cuda\")  # Use GPU for faster generation\n",
    "\n",
    "# Define the prompts and the negative prompt\n",
    "prompts = [\n",
    "    \"A stylish sleeveless dress with a flared skirt, adorned with vibrant geometric shapes such as circles, triangles, and squares. The design uses pastel shades of pink, blue, and yellow to create a cheerful appearance. Displayed against a clean white background to highlight the dress’s simplicity and charm.\",\n",
    "    \"A modern casual dress with a sleeveless design, featuring horizontal rainbow stripes in soft pastel hues. The pattern radiates a youthful energy and is set against a plain studio background with even lighting.\",\n",
    "    \"A sleeveless dress with a flared silhouette, decorated with bold black and red polka dots on a crisp white base. The playful design is showcased against a seamless light gray backdrop for a studio-perfect finish.\",\n",
    "    \"A knee-length summer dress with a simple yet vibrant pattern of diagonal stripes in alternating shades of orange, teal, and yellow. The dress exudes a lively vibe, set against a smooth beige background.\",\n",
    "    \"A sleeveless dress with bright pastel color blocks arranged in artistic configurations, blending magenta, green, and orange hues. Displayed on a hanger against a light gradient backdrop.\",\n",
    "    \"A flared dress with alternating vertical stripes in lavender, mint, and peach tones, creating a soft and calming effect. The dress is set against a clean, minimalist studio background.\",\n",
    "    \"A sleeveless dress with colorful overlapping circular patterns resembling bubbles, set on a soft pink base. Displayed against a plain white backdrop for a contemporary appeal.\",\n",
    "    \"A chic sleeveless dress featuring zigzag patterns in bright red, navy blue, and cream. The playful design is presented against a textured neutral background for added depth.\",\n",
    "    \"A casual dress with a checkerboard pattern in bold black and yellow squares, creating a modern and striking appearance. The design is set against a minimalist white studio background.\",\n",
    "    \"A sleeveless dress with a gradient color pattern transitioning smoothly from teal to magenta. Displayed in a clean, airy studio setup with soft lighting.\",\n",
    "    \"An elegant sleeveless dress with a flared skirt, featuring abstract brushstroke-inspired patterns in vibrant shades of blue, green, and yellow. The dress is displayed against a neutral white studio backdrop with soft shadows.\",\n",
    "    \"A sleeveless dress adorned with neon splash patterns in electric blue, pink, and green on a deep black base. Displayed against a textured gray background for a high-fashion feel.\",\n",
    "    \"A summer dress with artistic watercolor-inspired swirls in pastel tones of lavender, sky blue, and soft pink. Displayed on a mannequin against a plain white backdrop for an ethereal look.\",\n",
    "    \"A high-quality sleeveless dress with bold, abstract geometric shapes in orange, teal, and white. The dress is showcased against a gradient studio background for a modern aesthetic.\",\n",
    "    \"A casual sleeveless dress with a flared skirt, featuring artistic splatter patterns in vibrant primary colors of red, blue, and yellow. The design is highlighted against a seamless beige background.\",\n",
    "    \"An elegant evening dress with soft wave patterns in pastel tones of pink and lavender. The sophisticated design is displayed in a minimalistic studio setup with subtle shadows.\",\n",
    "    \"A sleeveless formal dress with intricate mandala-inspired designs in gold and black, creating a regal appearance. The dress is set against a dark velvet backdrop with gentle lighting.\",\n",
    "    \"A sleeveless dress with futuristic glitch-inspired patterns in cyan, magenta, and black, giving it a digital aesthetic. Displayed in a sleek, modern studio environment.\",\n",
    "    \"A glamorous sleeveless dress featuring abstract metallic textures in shimmering silver and gold, set against a black gradient backdrop for dramatic effect.\",\n",
    "    \"A stylish dress with colorful overlapping circles and curved lines, creating a unique optical illusion effect. Displayed against a clean white studio backdrop.\",\n",
    "    \"A sleeveless flared dress featuring vibrant geometric patterns with triangles, lines, and circles in bold shades of orange, teal, and yellow. Showcased against a seamless beige background.\",\n",
    "    \"A knee-length sleeveless dress with intricate lattice patterns in metallic gold and deep navy, creating a sophisticated look. Displayed against a textured dark backdrop.\",\n",
    "    \"A modern sleeveless dress with bold concentric circles in shades of red, white, and black, creating a retro-inspired look. The design is highlighted against a plain studio background.\",\n",
    "    \"A flared sleeveless dress with diamond-shaped patterns in earthy tones of green, brown, and beige, evoking a rustic aesthetic. Displayed against a neutral cream backdrop.\",\n",
    "    \"A casual dress with colorful alternating squares and circles in bright magenta, cyan, and yellow. Displayed on a hanger in a gradient studio environment.\",\n",
    "    \"A sleeveless dress with overlapping hexagonal patterns in metallic tones of gold and silver. Showcased in a minimalist white studio setting.\",\n",
    "    \"A modern casual dress with minimalist grid patterns in soft pastel hues of lavender and mint. The dress is displayed against a smooth light gray backdrop.\",\n",
    "    \"A sleeveless flared dress featuring bold diagonal stripe patterns in vibrant shades of purple, orange, and yellow. Displayed against a clean studio background.\",\n",
    "    \"A high-fashion sleeveless dress with kaleidoscope-inspired geometric patterns in vibrant hues, set against a gradient pastel backdrop.\",\n",
    "    \"A sleeveless flared dress with tessellation-inspired patterns in gold and black, evoking a regal and sophisticated look. Displayed against a sleek black background.\",\n",
    "    \"A sleeveless summer dress with colorful floral patterns featuring roses, daisies, and leaves in shades of pink, green, and yellow. Set against a pastel gradient background.\",\n",
    "    \"An elegant dress with intricate floral embroidery in gold on a deep navy blue base. The dress is displayed against a dark velvet backdrop with soft lighting.\",\n",
    "    \"A sleeveless dress featuring tropical patterns of palm leaves and hibiscus flowers in bright red, yellow, and green, set against a sandy beach-inspired backdrop.\",\n",
    "    \"A casual dress with delicate cherry blossom patterns in soft pinks, displayed against a clean white studio background.\",\n",
    "    \"A stylish dress with sunflower-inspired patterns in shades of yellow, green, and orange. The bright design is set against a cream-colored background.\",\n",
    "    \"A sleeveless dress with fern and vine patterns in soft green hues. Displayed against a rustic wooden backdrop for an earthy aesthetic.\",\n",
    "    \"A knee-length dress with meadow-inspired floral motifs in earthy tones, showcasing wildflowers and butterflies. Displayed against a soft green gradient background.\",\n",
    "    \"A formal sleeveless dress with lace-inspired floral patterns in pastel pink and white, set against a light beige studio background.\",\n",
    "    \"A sleeveless summer dress with hibiscus flower and tropical leaf patterns in vibrant green and red, displayed against a sandy-textured background.\",\n",
    "    \"An elegant sleeveless dress featuring intricate wildflower embroidery in pastel shades, set against a gradient pastel studio background.\",\n",
    "    \"A modern dress with pixelated digital patterns in neon shades of pink, green, and blue, set against a dark studio backdrop.\",\n",
    "    \"A sleeveless dress featuring zebra-inspired black-and-white stripes, displayed against a light gray background for a monochromatic aesthetic.\",\n",
    "    \"A stylish dress with cosmic galaxy patterns in deep shades of blue and purple, showcasing stars and nebulae. Displayed against a black gradient backdrop.\",\n",
    "    \"A modern sleeveless dress with holographic rainbow effects, displayed in a sleek studio with reflective lighting.\",\n",
    "    \"A sleeveless casual dress featuring camouflage patterns in earthy tones of green and brown. Displayed against a seamless beige backdrop.\",\n",
    "    \"A fashionable dress with intricate paisley designs in warm tones of red, orange, and gold. Displayed against a clean white background.\",\n",
    "    \"A futuristic sleeveless dress with circuit board-inspired metallic patterns in shades of green and silver. Displayed in a high-tech studio environment.\",\n",
    "    \"A casual sleeveless dress with tribal-inspired patterns in earthy tones of black, brown, and beige. Displayed against a textured background resembling natural stone.\",\n",
    "    \"An artistic dress featuring ink blot patterns in monochrome shades of black and gray, set against a neutral studio backdrop.\",\n",
    "    \"A high-fashion sleeveless dress inspired by mosaic tiles, featuring bright patterns in shades of blue, yellow, and white. Displayed against a clean white background.\"\n",
    "    # \"A sleeveless A-line dress featuring a pattern of evenly spaced, small pastel triangles arranged in neat rows, against a soft cream background, displayed in a minimal studio setting.\",\n",
    "    # \"A knee-length dress adorned with a subtle grid of tiny, softly colored squares, each placed with ample white space in between, showcased on a crisp ivory fabric and photographed in a clean, neutral environment.\",\n",
    "    # \"A modern sleeveless dress patterned with delicate, miniature plus signs in gentle hues, spaced like polka dots on an off-white backdrop, presented against a simple studio scene.\",\n",
    "    # \"A flared summer dress decorated with a sprinkle of small, rounded diamond shapes, arranged evenly and softly hued, set atop a pale background, captured in a minimal, well-lit setting.\",\n",
    "    # \"An elegant sleeveless dress showcasing a pattern of small, pastel teardrop shapes scattered evenly across a light ivory canvas, styled in a simple, neutral photographic environment.\",\n",
    "    # \"A stylish dress with a simple, vibrant pattern, featuring colorful geometric shapes in pastel shades of pink, blue, and yellow, set against a plain white background.\",\n",
    "    # \"A sleeveless dress with a flared design, adorned with rainbow stripes on a pastel base, displayed in a minimalistic studio setup.\",\n",
    "    # \"A dress with a simple polka dot pattern in red and white, featuring a sleeveless design with a flared skirt, set against a light beige backdrop.\",\n",
    "    # \"A stylish dress with a mix of color blocks in vibrant shades like orange, teal, and magenta, displayed on a hanger with a gradient background.\",\n",
    "    # \"A high-quality image of a sleeveless dress with colorful abstract patterns resembling artistic brushstrokes, combining hues of blue, green, and red, set against a neutral white background.\",\n",
    "    # \"An elegant dress with swirling artistic motifs in gold and black, displayed on a soft textured studio background.\",\n",
    "    # \"A sleeveless dress with watercolor-like pastel patterns in shades of pink and lavender, set against a clean white backdrop.\",\n",
    "    # \"A sleeveless dress with bold graffiti-inspired abstract designs, featuring bright neon colors on a black base, displayed in a modern studio.\",\n",
    "    # \"A fashionable sleeveless dress adorned with vibrant geometric patterns, featuring triangles, circles, and lines in shades of orange, teal, and yellow, showcased on a beige seamless background.\",\n",
    "    # \"A modern dress with bold zigzag patterns in black and white, with hints of red, set against a light textured backdrop.\",\n",
    "    # \"A sleeveless dress featuring concentric circles in bright shades of yellow, blue, and green, displayed against a plain cream-colored background.\",\n",
    "    # \"A sleeveless dress with a digital-inspired pixelated geometric pattern in vibrant shades like cyan, magenta, and orange, set against a white gradient background.\",\n",
    "    # \"A sleeveless summer dress featuring colorful floral patterns with roses, daisies, and leaves in shades of pink, purple, and green, set against a soft gradient pastel background.\",\n",
    "    # \"An elegant dress with intricate floral embroidery in gold on a deep navy base, displayed against a dark velvet-like backdrop.\",\n",
    "    # \"A sleeveless dress with tropical floral patterns featuring hibiscus flowers and palm leaves in vibrant shades of red, yellow, and green, set against a sandy beach-inspired backdrop.\",\n",
    "    # \"A knee-length dress with tiny floral motifs in pastel shades of lilac and white, displayed against a clean and simple white background.\",\n",
    "    # \"A single elegant dress with an abstract artistic pattern featuring colorful strokes, splashes, and curves in bright tones of red, blue, and yellow, set against a plain studio background.\",\n",
    "    # \"A sleeveless dress with bold, abstract shapes inspired by cubist art, in shades of orange, teal, and white, displayed against a textured gray backdrop.\",\n",
    "    # \"A long flowy dress with abstract marbling patterns in shades of purple, green, and gold, set against a light cream background.\",\n",
    "    # \"A modern dress with abstract drip paint patterns in black, white, and metallic silver, displayed in a sleek, minimalistic studio setup.\",\n",
    "    # \"A minimalistic sleeveless dress showcasing just a handful of small, understated abstract marks in gentle hues, spaced out over a white canvas, captured in a clean, minimalist setting.\",\n",
    "    # \"A stylish dress with a simple, vibrant pattern, featuring colorful geometric shapes, floral designs, or abstract motifs, set against a plain white background. The dress has a sleeveless, flared design with bright pastel shades like pink, blue, and yellow.\",\n",
    "    # \"A high-quality image of a sleeveless dress with a flared skirt and colorful abstract patterns. The pattern combines artistic swirls, lines, and dots in shades of blue, green, and red. Displayed in a clean studio setup with a neutral backdrop.\",\n",
    "    # \"A fashionable dress adorned with vibrant geometric patterns in bold colors such as orange, teal, and yellow. The design includes triangles, circles, and lines, with a modern sleeveless silhouette, showcased on a seamless beige background.\",\n",
    "    # \"A sleeveless summer dress featuring a colorful floral pattern with roses, daisies, and leaves in shades of pink, purple, and green. The dress is knee-length with a flared skirt, set against a gradient pastel background.\",\n",
    "    # \"A single elegant dress with an abstract artistic pattern featuring colorful strokes, splashes, and curves in bright tones of red, blue, yellow, and white. Displayed in a minimal studio environment.\"\n",
    "]\n",
    "\n",
    "negative_prompt = \"human figure, person, woman, girl, mannequin, model, face, hands, arms, legs, skin\"\n",
    "\n",
    "# Generate 100 images\n",
    "output_dir = \"generated_dresses/\"\n",
    "os.makedirs(output_dir, exist_ok=True)  # Ensure the output directory exists\n",
    "\n",
    "for i in range(100):\n",
    "    prompt = prompts[i % len(prompts)]  # Cycle through the prompts\n",
    "    print(f\"Generating image {i+1}/10 with prompt: {prompt}\")\n",
    "    image = pipe(prompt, negative_prompt=negative_prompt, num_inference_steps=50, guidance_scale=7.5).images[0]\n",
    "    image.save(f\"{output_dir}dress_{i+1:03d}.png\")\n",
    "\n",
    "\n",
    "print(\"Image generation completed!\")"
   ]
  }
 ],
 "metadata": {
  "kernelspec": {
   "display_name": "clip",
   "language": "python",
   "name": "python3"
  },
  "language_info": {
   "codemirror_mode": {
    "name": "ipython",
    "version": 3
   },
   "file_extension": ".py",
   "mimetype": "text/x-python",
   "name": "python",
   "nbconvert_exporter": "python",
   "pygments_lexer": "ipython3",
   "version": "3.9.20"
  }
 },
 "nbformat": 4,
 "nbformat_minor": 2
}
